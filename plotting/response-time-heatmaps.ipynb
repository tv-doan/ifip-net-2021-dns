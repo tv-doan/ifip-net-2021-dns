{
 "cells": [
  {
   "cell_type": "code",
   "execution_count": 1,
   "metadata": {},
   "outputs": [],
   "source": [
    "import pandas as pd\n",
    "import sqlite3"
   ]
  },
  {
   "cell_type": "code",
   "execution_count": 2,
   "metadata": {},
   "outputs": [],
   "source": [
    "conn = sqlite3.connect('../data/resolver-probe-medians.db')\n",
    "df_v4 = pd.read_sql('select * from heatmap_v4', con=conn)\n",
    "df_v6 = pd.read_sql('select * from heatmap_v6', con=conn)\n",
    "conn.close()"
   ]
  },
  {
   "cell_type": "code",
   "execution_count": 3,
   "metadata": {},
   "outputs": [
    {
     "data": {
      "text/plain": [
       "2444"
      ]
     },
     "execution_count": 3,
     "metadata": {},
     "output_type": "execute_result"
    }
   ],
   "source": [
    "len(df_v4)"
   ]
  },
  {
   "cell_type": "code",
   "execution_count": 4,
   "metadata": {},
   "outputs": [
    {
     "data": {
      "text/plain": [
       "1153"
      ]
     },
     "execution_count": 4,
     "metadata": {},
     "output_type": "execute_result"
    }
   ],
   "source": [
    "len(df_v6)"
   ]
  },
  {
   "cell_type": "code",
   "execution_count": 5,
   "metadata": {},
   "outputs": [
    {
     "data": {
      "text/html": [
       "<div>\n",
       "<style scoped>\n",
       "    .dataframe tbody tr th:only-of-type {\n",
       "        vertical-align: middle;\n",
       "    }\n",
       "\n",
       "    .dataframe tbody tr th {\n",
       "        vertical-align: top;\n",
       "    }\n",
       "\n",
       "    .dataframe thead th {\n",
       "        text-align: right;\n",
       "    }\n",
       "</style>\n",
       "<table border=\"1\" class=\"dataframe\">\n",
       "  <thead>\n",
       "    <tr style=\"text-align: right;\">\n",
       "      <th></th>\n",
       "      <th>CleanBrowsing</th>\n",
       "      <th>Cloudflare</th>\n",
       "      <th>Google</th>\n",
       "      <th>Neustar</th>\n",
       "      <th>NextDNS</th>\n",
       "      <th>OpenDNS</th>\n",
       "      <th>OpenNIC</th>\n",
       "      <th>Quad9</th>\n",
       "      <th>VeriSign</th>\n",
       "      <th>Yandex</th>\n",
       "      <th>local</th>\n",
       "    </tr>\n",
       "    <tr>\n",
       "      <th>continent</th>\n",
       "      <th></th>\n",
       "      <th></th>\n",
       "      <th></th>\n",
       "      <th></th>\n",
       "      <th></th>\n",
       "      <th></th>\n",
       "      <th></th>\n",
       "      <th></th>\n",
       "      <th></th>\n",
       "      <th></th>\n",
       "      <th></th>\n",
       "    </tr>\n",
       "  </thead>\n",
       "  <tbody>\n",
       "    <tr>\n",
       "      <th>AF</th>\n",
       "      <td>71.76100</td>\n",
       "      <td>8.56050</td>\n",
       "      <td>176.96000</td>\n",
       "      <td>NaN</td>\n",
       "      <td>48.58200</td>\n",
       "      <td>62.09900</td>\n",
       "      <td>NaN</td>\n",
       "      <td>23.21925</td>\n",
       "      <td>174.92000</td>\n",
       "      <td>204.145</td>\n",
       "      <td>46.61100</td>\n",
       "    </tr>\n",
       "    <tr>\n",
       "      <th>AS</th>\n",
       "      <td>33.56925</td>\n",
       "      <td>10.23250</td>\n",
       "      <td>23.82800</td>\n",
       "      <td>30.74900</td>\n",
       "      <td>30.13100</td>\n",
       "      <td>25.98425</td>\n",
       "      <td>30.77725</td>\n",
       "      <td>57.78925</td>\n",
       "      <td>86.94200</td>\n",
       "      <td>202.745</td>\n",
       "      <td>24.05225</td>\n",
       "    </tr>\n",
       "    <tr>\n",
       "      <th>EU</th>\n",
       "      <td>24.28600</td>\n",
       "      <td>12.66825</td>\n",
       "      <td>19.11025</td>\n",
       "      <td>1.80650</td>\n",
       "      <td>18.61700</td>\n",
       "      <td>17.04500</td>\n",
       "      <td>1.70450</td>\n",
       "      <td>19.62250</td>\n",
       "      <td>26.77700</td>\n",
       "      <td>46.890</td>\n",
       "      <td>13.86575</td>\n",
       "    </tr>\n",
       "    <tr>\n",
       "      <th>NA</th>\n",
       "      <td>21.26700</td>\n",
       "      <td>15.74525</td>\n",
       "      <td>21.13450</td>\n",
       "      <td>1.30275</td>\n",
       "      <td>20.42950</td>\n",
       "      <td>16.96900</td>\n",
       "      <td>1.31700</td>\n",
       "      <td>22.50025</td>\n",
       "      <td>31.04450</td>\n",
       "      <td>150.148</td>\n",
       "      <td>23.23100</td>\n",
       "    </tr>\n",
       "    <tr>\n",
       "      <th>OC</th>\n",
       "      <td>25.08100</td>\n",
       "      <td>9.49950</td>\n",
       "      <td>23.61000</td>\n",
       "      <td>0.95000</td>\n",
       "      <td>10.75025</td>\n",
       "      <td>19.23675</td>\n",
       "      <td>0.96250</td>\n",
       "      <td>25.64000</td>\n",
       "      <td>140.03375</td>\n",
       "      <td>315.707</td>\n",
       "      <td>29.20875</td>\n",
       "    </tr>\n",
       "    <tr>\n",
       "      <th>SA</th>\n",
       "      <td>111.05075</td>\n",
       "      <td>23.78800</td>\n",
       "      <td>28.22750</td>\n",
       "      <td>1.88350</td>\n",
       "      <td>23.37900</td>\n",
       "      <td>39.57850</td>\n",
       "      <td>4.07625</td>\n",
       "      <td>131.20100</td>\n",
       "      <td>161.37975</td>\n",
       "      <td>261.219</td>\n",
       "      <td>17.90600</td>\n",
       "    </tr>\n",
       "  </tbody>\n",
       "</table>\n",
       "</div>"
      ],
      "text/plain": [
       "           CleanBrowsing  Cloudflare     Google   Neustar   NextDNS   OpenDNS  \\\n",
       "continent                                                                       \n",
       "AF              71.76100     8.56050  176.96000       NaN  48.58200  62.09900   \n",
       "AS              33.56925    10.23250   23.82800  30.74900  30.13100  25.98425   \n",
       "EU              24.28600    12.66825   19.11025   1.80650  18.61700  17.04500   \n",
       "NA              21.26700    15.74525   21.13450   1.30275  20.42950  16.96900   \n",
       "OC              25.08100     9.49950   23.61000   0.95000  10.75025  19.23675   \n",
       "SA             111.05075    23.78800   28.22750   1.88350  23.37900  39.57850   \n",
       "\n",
       "            OpenNIC      Quad9   VeriSign   Yandex     local  \n",
       "continent                                                     \n",
       "AF              NaN   23.21925  174.92000  204.145  46.61100  \n",
       "AS         30.77725   57.78925   86.94200  202.745  24.05225  \n",
       "EU          1.70450   19.62250   26.77700   46.890  13.86575  \n",
       "NA          1.31700   22.50025   31.04450  150.148  23.23100  \n",
       "OC          0.96250   25.64000  140.03375  315.707  29.20875  \n",
       "SA          4.07625  131.20100  161.37975  261.219  17.90600  "
      ]
     },
     "execution_count": 5,
     "metadata": {},
     "output_type": "execute_result"
    }
   ],
   "source": [
    "df_v4.groupby('continent').median().drop(columns=['probe_id', 'probe_count_continent'])"
   ]
  },
  {
   "cell_type": "code",
   "execution_count": 6,
   "metadata": {},
   "outputs": [
    {
     "data": {
      "text/html": [
       "<div>\n",
       "<style scoped>\n",
       "    .dataframe tbody tr th:only-of-type {\n",
       "        vertical-align: middle;\n",
       "    }\n",
       "\n",
       "    .dataframe tbody tr th {\n",
       "        vertical-align: top;\n",
       "    }\n",
       "\n",
       "    .dataframe thead th {\n",
       "        text-align: right;\n",
       "    }\n",
       "</style>\n",
       "<table border=\"1\" class=\"dataframe\">\n",
       "  <thead>\n",
       "    <tr style=\"text-align: right;\">\n",
       "      <th></th>\n",
       "      <th>probe_id</th>\n",
       "      <th>CleanBrowsing</th>\n",
       "      <th>Cloudflare</th>\n",
       "      <th>Google</th>\n",
       "      <th>Neustar</th>\n",
       "      <th>NextDNS</th>\n",
       "      <th>OpenDNS</th>\n",
       "      <th>OpenNIC</th>\n",
       "      <th>Quad9</th>\n",
       "      <th>VeriSign</th>\n",
       "      <th>Yandex</th>\n",
       "      <th>continent</th>\n",
       "      <th>country</th>\n",
       "      <th>local</th>\n",
       "      <th>probe_count_continent</th>\n",
       "    </tr>\n",
       "  </thead>\n",
       "  <tbody>\n",
       "    <tr>\n",
       "      <th>515</th>\n",
       "      <td>27765</td>\n",
       "      <td>2.5415</td>\n",
       "      <td>2.5135</td>\n",
       "      <td>NaN</td>\n",
       "      <td>2.495</td>\n",
       "      <td>2.4720</td>\n",
       "      <td>2.4355</td>\n",
       "      <td>2.521</td>\n",
       "      <td>2.4580</td>\n",
       "      <td>2.5075</td>\n",
       "      <td>2.456</td>\n",
       "      <td>EU</td>\n",
       "      <td>NO</td>\n",
       "      <td>51.7110</td>\n",
       "      <td>1732</td>\n",
       "    </tr>\n",
       "    <tr>\n",
       "      <th>633</th>\n",
       "      <td>30255</td>\n",
       "      <td>41.6430</td>\n",
       "      <td>38.1990</td>\n",
       "      <td>NaN</td>\n",
       "      <td>39.132</td>\n",
       "      <td>273.9410</td>\n",
       "      <td>39.6085</td>\n",
       "      <td>37.656</td>\n",
       "      <td>39.4815</td>\n",
       "      <td>39.7055</td>\n",
       "      <td>38.161</td>\n",
       "      <td>AS</td>\n",
       "      <td>CN</td>\n",
       "      <td>NaN</td>\n",
       "      <td>149</td>\n",
       "    </tr>\n",
       "    <tr>\n",
       "      <th>1114</th>\n",
       "      <td>55328</td>\n",
       "      <td>9.5015</td>\n",
       "      <td>7.8480</td>\n",
       "      <td>NaN</td>\n",
       "      <td>7.931</td>\n",
       "      <td>9.5885</td>\n",
       "      <td>9.0720</td>\n",
       "      <td>7.615</td>\n",
       "      <td>7.9670</td>\n",
       "      <td>7.3640</td>\n",
       "      <td>8.001</td>\n",
       "      <td>AS</td>\n",
       "      <td>CN</td>\n",
       "      <td>1.4015</td>\n",
       "      <td>149</td>\n",
       "    </tr>\n",
       "  </tbody>\n",
       "</table>\n",
       "</div>"
      ],
      "text/plain": [
       "      probe_id  CleanBrowsing  Cloudflare  Google  Neustar   NextDNS  OpenDNS  \\\n",
       "515      27765         2.5415      2.5135     NaN    2.495    2.4720   2.4355   \n",
       "633      30255        41.6430     38.1990     NaN   39.132  273.9410  39.6085   \n",
       "1114     55328         9.5015      7.8480     NaN    7.931    9.5885   9.0720   \n",
       "\n",
       "      OpenNIC    Quad9  VeriSign  Yandex continent country    local  \\\n",
       "515     2.521   2.4580    2.5075   2.456        EU      NO  51.7110   \n",
       "633    37.656  39.4815   39.7055  38.161        AS      CN      NaN   \n",
       "1114    7.615   7.9670    7.3640   8.001        AS      CN   1.4015   \n",
       "\n",
       "      probe_count_continent  \n",
       "515                    1732  \n",
       "633                     149  \n",
       "1114                    149  "
      ]
     },
     "execution_count": 6,
     "metadata": {},
     "output_type": "execute_result"
    }
   ],
   "source": [
    "df_v6[df_v6['Neustar'].notnull()]"
   ]
  },
  {
   "cell_type": "code",
   "execution_count": 7,
   "metadata": {},
   "outputs": [],
   "source": [
    "import seaborn as sns\n",
    "from matplotlib.ticker import FuncFormatter\n",
    "import matplotlib.pyplot as plt"
   ]
  },
  {
   "cell_type": "code",
   "execution_count": 9,
   "metadata": {},
   "outputs": [
    {
     "data": {
      "image/png": "[encoded data removed]",
      "text/plain": [
       "<Figure size 288x396 with 3 Axes>"
      ]
     },
     "metadata": {},
     "output_type": "display_data"
    }
   ],
   "source": [
    "fig, (ax_v4, ax_v6) = plt.subplots(figsize=(4, 5.5), nrows=2)\n",
    "\n",
    "cbar_ax = fig.add_axes([0.94, .125, .025, 0.75])\n",
    "\n",
    "ax_v4 = sns.heatmap(df_v4.groupby('continent').median().drop(columns=['probe_id', 'probe_count_continent']).T,\n",
    "            annot=True,\n",
    "            cmap=\"RdYlGn_r\",\n",
    "            cbar_kws={'label' : 'Response Time [ms]',\n",
    "#                       'format': FuncFormatter(lambda x, pos: '{:.1%}'.format(x))\n",
    "                     },\n",
    "            fmt='.1f',\n",
    "            vmin=-3,\n",
    "            vmax=303,\n",
    "            ax=ax_v4,\n",
    "            xticklabels=False,\n",
    "            cbar_ax=cbar_ax\n",
    "           )\n",
    "ax_v4.set_xlabel('')\n",
    "ax_v4.set_ylabel('')\n",
    "ax_v4.set_title('IPv4')\n",
    "\n",
    "ax_v6 = sns.heatmap(df_v6.groupby('continent').median().drop(columns=['probe_id', 'probe_count_continent']).T,\n",
    "            annot=True,\n",
    "            cmap=\"RdYlGn_r\",\n",
    "            cbar_kws={'label' : 'Response Time [ms]',\n",
    "#                       'format': FuncFormatter(lambda x, pos: '{:.1%}'.format(x))\n",
    "                     },\n",
    "            fmt='.1f',\n",
    "            vmin=-3,\n",
    "            vmax=303,\n",
    "            ax=ax_v6,\n",
    "            cbar_ax=cbar_ax\n",
    "           )\n",
    "ax_v6.set_xlabel('')\n",
    "ax_v6.set_ylabel('')\n",
    "ax_v6.set_title('IPv6')\n",
    "\n",
    "plt.subplots_adjust(wspace=0.125)\n",
    "\n",
    "fig.savefig('../plots/response-times-heatmap-continents.pdf', bbox_inches='tight')\n",
    "fig.savefig('../plots/response-times-heatmap-continents.eps', bbox_inches='tight')"
   ]
  },
  {
   "cell_type": "code",
   "execution_count": null,
   "metadata": {},
   "outputs": [],
   "source": []
  },
  {
   "cell_type": "code",
   "execution_count": 10,
   "metadata": {},
   "outputs": [
    {
     "name": "stdout",
     "output_type": "stream",
     "text": [
      "18.399340909090906\n",
      "18.128704545454546\n"
     ]
    }
   ],
   "source": [
    "print(df_v4.groupby('continent').median().drop(columns=['probe_id', 'probe_count_continent']).T['EU'].mean())\n",
    "print(df_v6.groupby('continent').median().drop(columns=['probe_id', 'probe_count_continent']).T['EU'].mean())"
   ]
  },
  {
   "cell_type": "code",
   "execution_count": 11,
   "metadata": {},
   "outputs": [
    {
     "name": "stdout",
     "output_type": "stream",
     "text": [
      "29.55352272727273\n",
      "36.735055555555554\n"
     ]
    }
   ],
   "source": [
    "print(df_v4.groupby('continent').median().drop(columns=['probe_id', 'probe_count_continent']).T['NA'].mean())\n",
    "print(df_v6.groupby('continent').median().drop(columns=['probe_id', 'probe_count_continent']).T['NA'].mean())"
   ]
  },
  {
   "cell_type": "code",
   "execution_count": 12,
   "metadata": {},
   "outputs": [
    {
     "name": "stdout",
     "output_type": "stream",
     "text": [
      "73.06265909090908\n",
      "90.00233333333333\n"
     ]
    }
   ],
   "source": [
    "print(df_v4.groupby('continent').median().drop(columns=['probe_id', 'probe_count_continent']).T['SA'].mean())\n",
    "print(df_v6.groupby('continent').median().drop(columns=['probe_id', 'probe_count_continent']).T['SA'].mean())"
   ]
  },
  {
   "cell_type": "code",
   "execution_count": 13,
   "metadata": {},
   "outputs": [
    {
     "name": "stdout",
     "output_type": "stream",
     "text": [
      "90.76197222222221\n",
      "119.61242857142857\n"
     ]
    }
   ],
   "source": [
    "print(df_v4.groupby('continent').median().drop(columns=['probe_id', 'probe_count_continent']).T['AF'].mean())\n",
    "print(df_v6.groupby('continent').median().drop(columns=['probe_id', 'probe_count_continent']).T['AF'].mean())"
   ]
  },
  {
   "cell_type": "code",
   "execution_count": 14,
   "metadata": {},
   "outputs": [
    {
     "name": "stdout",
     "output_type": "stream",
     "text": [
      "50.61815909090908\n",
      "66.29193181818181\n"
     ]
    }
   ],
   "source": [
    "print(df_v4.groupby('continent').median().drop(columns=['probe_id', 'probe_count_continent']).T['AS'].mean())\n",
    "print(df_v6.groupby('continent').median().drop(columns=['probe_id', 'probe_count_continent']).T['AS'].mean())"
   ]
  },
  {
   "cell_type": "code",
   "execution_count": 15,
   "metadata": {},
   "outputs": [
    {
     "name": "stdout",
     "output_type": "stream",
     "text": [
      "54.60722727272727\n",
      "65.38319444444444\n"
     ]
    }
   ],
   "source": [
    "print(df_v4.groupby('continent').median().drop(columns=['probe_id', 'probe_count_continent']).T['OC'].mean())\n",
    "print(df_v6.groupby('continent').median().drop(columns=['probe_id', 'probe_count_continent']).T['OC'].mean())"
   ]
  },
  {
   "cell_type": "code",
   "execution_count": null,
   "metadata": {},
   "outputs": [],
   "source": []
  }
 ],
 "metadata": {
  "kernelspec": {
   "display_name": "Python 3",
   "language": "python",
   "name": "python3"
  },
  "language_info": {
   "codemirror_mode": {
    "name": "ipython",
    "version": 3
   },
   "file_extension": ".py",
   "mimetype": "text/x-python",
   "name": "python",
   "nbconvert_exporter": "python",
   "pygments_lexer": "ipython3",
   "version": "3.6.9"
  }
 },
 "nbformat": 4,
 "nbformat_minor": 2
}
