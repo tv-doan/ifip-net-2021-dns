{
 "cells": [
  {
   "cell_type": "code",
   "execution_count": 1,
   "metadata": {},
   "outputs": [],
   "source": [
    "import sqlite3\n",
    "import pandas as pd"
   ]
  },
  {
   "cell_type": "code",
   "execution_count": 2,
   "metadata": {},
   "outputs": [],
   "source": [
    "import numpy as np"
   ]
  },
  {
   "cell_type": "code",
   "execution_count": 3,
   "metadata": {},
   "outputs": [],
   "source": [
    "db = sqlite3.connect(\"../data/ripe-dns-all-probes-v4v6-extended-resolvers-2020.db\")\n",
    "dff = pd.read_sql_query(\"SELECT * from data\", db)\n",
    "db.close()"
   ]
  },
  {
   "cell_type": "code",
   "execution_count": 4,
   "metadata": {},
   "outputs": [],
   "source": [
    "df_reduced = dff[['prb_id', 'resolver_name', 'is_global_ip']]"
   ]
  },
  {
   "cell_type": "code",
   "execution_count": 5,
   "metadata": {},
   "outputs": [
    {
     "data": {
      "text/html": [
       "<div>\n",
       "<style scoped>\n",
       "    .dataframe tbody tr th:only-of-type {\n",
       "        vertical-align: middle;\n",
       "    }\n",
       "\n",
       "    .dataframe tbody tr th {\n",
       "        vertical-align: top;\n",
       "    }\n",
       "\n",
       "    .dataframe thead th {\n",
       "        text-align: right;\n",
       "    }\n",
       "</style>\n",
       "<table border=\"1\" class=\"dataframe\">\n",
       "  <thead>\n",
       "    <tr style=\"text-align: right;\">\n",
       "      <th></th>\n",
       "      <th>prb_id</th>\n",
       "      <th>resolver_name</th>\n",
       "      <th>is_global_ip</th>\n",
       "    </tr>\n",
       "  </thead>\n",
       "  <tbody>\n",
       "    <tr>\n",
       "      <th>0</th>\n",
       "      <td>1</td>\n",
       "      <td>local</td>\n",
       "      <td>0</td>\n",
       "    </tr>\n",
       "    <tr>\n",
       "      <th>1</th>\n",
       "      <td>1000</td>\n",
       "      <td>local</td>\n",
       "      <td>0</td>\n",
       "    </tr>\n",
       "    <tr>\n",
       "      <th>2</th>\n",
       "      <td>1002</td>\n",
       "      <td>local</td>\n",
       "      <td>0</td>\n",
       "    </tr>\n",
       "    <tr>\n",
       "      <th>3</th>\n",
       "      <td>102</td>\n",
       "      <td>local</td>\n",
       "      <td>1</td>\n",
       "    </tr>\n",
       "    <tr>\n",
       "      <th>4</th>\n",
       "      <td>102</td>\n",
       "      <td>local</td>\n",
       "      <td>1</td>\n",
       "    </tr>\n",
       "    <tr>\n",
       "      <th>...</th>\n",
       "      <td>...</td>\n",
       "      <td>...</td>\n",
       "      <td>...</td>\n",
       "    </tr>\n",
       "    <tr>\n",
       "      <th>37449</th>\n",
       "      <td>1000095</td>\n",
       "      <td>Google</td>\n",
       "      <td>1</td>\n",
       "    </tr>\n",
       "    <tr>\n",
       "      <th>37450</th>\n",
       "      <td>1000095</td>\n",
       "      <td>Google</td>\n",
       "      <td>1</td>\n",
       "    </tr>\n",
       "    <tr>\n",
       "      <th>37451</th>\n",
       "      <td>1000652</td>\n",
       "      <td>local</td>\n",
       "      <td>0</td>\n",
       "    </tr>\n",
       "    <tr>\n",
       "      <th>37452</th>\n",
       "      <td>1000022</td>\n",
       "      <td>Cloudflare</td>\n",
       "      <td>1</td>\n",
       "    </tr>\n",
       "    <tr>\n",
       "      <th>37453</th>\n",
       "      <td>1000022</td>\n",
       "      <td>Cloudflare</td>\n",
       "      <td>1</td>\n",
       "    </tr>\n",
       "  </tbody>\n",
       "</table>\n",
       "<p>37454 rows × 3 columns</p>\n",
       "</div>"
      ],
      "text/plain": [
       "        prb_id resolver_name  is_global_ip\n",
       "0            1         local             0\n",
       "1         1000         local             0\n",
       "2         1002         local             0\n",
       "3          102         local             1\n",
       "4          102         local             1\n",
       "...        ...           ...           ...\n",
       "37449  1000095        Google             1\n",
       "37450  1000095        Google             1\n",
       "37451  1000652         local             0\n",
       "37452  1000022    Cloudflare             1\n",
       "37453  1000022    Cloudflare             1\n",
       "\n",
       "[37454 rows x 3 columns]"
      ]
     },
     "execution_count": 5,
     "metadata": {},
     "output_type": "execute_result"
    }
   ],
   "source": [
    "df_reduced"
   ]
  },
  {
   "cell_type": "code",
   "execution_count": 6,
   "metadata": {},
   "outputs": [],
   "source": [
    "df_reduced = df_reduced.drop_duplicates()"
   ]
  },
  {
   "cell_type": "code",
   "execution_count": 7,
   "metadata": {},
   "outputs": [
    {
     "data": {
      "text/plain": [
       "10624"
      ]
     },
     "execution_count": 7,
     "metadata": {},
     "output_type": "execute_result"
    }
   ],
   "source": [
    "df_reduced.prb_id.nunique()"
   ]
  },
  {
   "cell_type": "code",
   "execution_count": 8,
   "metadata": {},
   "outputs": [
    {
     "data": {
      "text/plain": [
       "3007"
      ]
     },
     "execution_count": 8,
     "metadata": {},
     "output_type": "execute_result"
    }
   ],
   "source": [
    "df_reduced[df_reduced.resolver_name != 'local'].prb_id.nunique()"
   ]
  },
  {
   "cell_type": "code",
   "execution_count": 9,
   "metadata": {},
   "outputs": [
    {
     "data": {
      "text/plain": [
       "9253"
      ]
     },
     "execution_count": 9,
     "metadata": {},
     "output_type": "execute_result"
    }
   ],
   "source": [
    "df_reduced[df_reduced.resolver_name == 'local'].prb_id.nunique()"
   ]
  },
  {
   "cell_type": "code",
   "execution_count": 10,
   "metadata": {},
   "outputs": [],
   "source": [
    "doh_autoupgrade = ['CleanBrowsing', 'Cloudflare', 'Google', 'NextDNS', 'OpenDNS', 'Quad9']"
   ]
  },
  {
   "cell_type": "code",
   "execution_count": 11,
   "metadata": {},
   "outputs": [
    {
     "data": {
      "text/plain": [
       "2991"
      ]
     },
     "execution_count": 11,
     "metadata": {},
     "output_type": "execute_result"
    }
   ],
   "source": [
    "df_reduced[df_reduced['resolver_name'].isin(doh_autoupgrade)]['prb_id'].nunique()"
   ]
  },
  {
   "cell_type": "code",
   "execution_count": 12,
   "metadata": {},
   "outputs": [],
   "source": [
    "probes_with_centr_rslv = df_reduced[df_reduced.resolver_name != 'local'].prb_id.unique()"
   ]
  },
  {
   "cell_type": "code",
   "execution_count": 13,
   "metadata": {},
   "outputs": [],
   "source": [
    "probes_with_local_rslv = df_reduced[df_reduced.resolver_name == 'local'].prb_id.unique()"
   ]
  },
  {
   "cell_type": "code",
   "execution_count": 14,
   "metadata": {},
   "outputs": [
    {
     "data": {
      "text/plain": [
       "1636"
      ]
     },
     "execution_count": 14,
     "metadata": {},
     "output_type": "execute_result"
    }
   ],
   "source": [
    "#probes with a local resolver and centralized one\n",
    "df_reduced[(df_reduced.prb_id.isin(probes_with_local_rslv)) & (df_reduced.resolver_name != 'local')].prb_id.nunique()"
   ]
  },
  {
   "cell_type": "code",
   "execution_count": 15,
   "metadata": {},
   "outputs": [
    {
     "data": {
      "text/plain": [
       "1636"
      ]
     },
     "execution_count": 15,
     "metadata": {},
     "output_type": "execute_result"
    }
   ],
   "source": [
    "#sanity check\n",
    "df_reduced[(df_reduced.prb_id.isin(probes_with_centr_rslv)) & (df_reduced.resolver_name == 'local')].prb_id.nunique()"
   ]
  },
  {
   "cell_type": "code",
   "execution_count": 16,
   "metadata": {
    "collapsed": true
   },
   "outputs": [
    {
     "name": "stderr",
     "output_type": "stream",
     "text": [
      "/usr/lib/python3/dist-packages/ipykernel_launcher.py:1: SettingWithCopyWarning: \n",
      "A value is trying to be set on a copy of a slice from a DataFrame.\n",
      "Try using .loc[row_indexer,col_indexer] = value instead\n",
      "\n",
      "See the caveats in the documentation: https://pandas.pydata.org/pandas-docs/stable/user_guide/indexing.html#returning-a-view-versus-a-copy\n",
      "  \"\"\"Entry point for launching an IPython kernel.\n",
      "/usr/lib/python3/dist-packages/ipykernel_launcher.py:2: SettingWithCopyWarning: \n",
      "A value is trying to be set on a copy of a slice from a DataFrame.\n",
      "Try using .loc[row_indexer,col_indexer] = value instead\n",
      "\n",
      "See the caveats in the documentation: https://pandas.pydata.org/pandas-docs/stable/user_guide/indexing.html#returning-a-view-versus-a-copy\n",
      "  \n"
     ]
    }
   ],
   "source": [
    "df_reduced['ctr_local'] = np.where(df_reduced['resolver_name'] == 'local', 1, 0)\n",
    "df_reduced['ctr_centr'] = np.where(df_reduced['resolver_name'] != 'local', 1, 0)"
   ]
  },
  {
   "cell_type": "code",
   "execution_count": 17,
   "metadata": {
    "collapsed": true
   },
   "outputs": [
    {
     "name": "stderr",
     "output_type": "stream",
     "text": [
      "/usr/lib/python3/dist-packages/ipykernel_launcher.py:1: SettingWithCopyWarning: \n",
      "A value is trying to be set on a copy of a slice from a DataFrame.\n",
      "Try using .loc[row_indexer,col_indexer] = value instead\n",
      "\n",
      "See the caveats in the documentation: https://pandas.pydata.org/pandas-docs/stable/user_guide/indexing.html#returning-a-view-versus-a-copy\n",
      "  \"\"\"Entry point for launching an IPython kernel.\n"
     ]
    }
   ],
   "source": [
    "df_reduced['ctr_all'] = 1"
   ]
  },
  {
   "cell_type": "code",
   "execution_count": 18,
   "metadata": {},
   "outputs": [
    {
     "data": {
      "text/html": [
       "<div>\n",
       "<style scoped>\n",
       "    .dataframe tbody tr th:only-of-type {\n",
       "        vertical-align: middle;\n",
       "    }\n",
       "\n",
       "    .dataframe tbody tr th {\n",
       "        vertical-align: top;\n",
       "    }\n",
       "\n",
       "    .dataframe thead th {\n",
       "        text-align: right;\n",
       "    }\n",
       "</style>\n",
       "<table border=\"1\" class=\"dataframe\">\n",
       "  <thead>\n",
       "    <tr style=\"text-align: right;\">\n",
       "      <th></th>\n",
       "      <th>prb_id</th>\n",
       "      <th>resolver_name</th>\n",
       "      <th>is_global_ip</th>\n",
       "      <th>ctr_local</th>\n",
       "      <th>ctr_centr</th>\n",
       "      <th>ctr_all</th>\n",
       "    </tr>\n",
       "  </thead>\n",
       "  <tbody>\n",
       "  </tbody>\n",
       "</table>\n",
       "</div>"
      ],
      "text/plain": [
       "Empty DataFrame\n",
       "Columns: [prb_id, resolver_name, is_global_ip, ctr_local, ctr_centr, ctr_all]\n",
       "Index: []"
      ]
     },
     "execution_count": 18,
     "metadata": {},
     "output_type": "execute_result"
    }
   ],
   "source": [
    "df_reduced[(df_reduced.resolver_name == 'local') & (df_reduced.ctr_centr == 1)]"
   ]
  },
  {
   "cell_type": "code",
   "execution_count": 19,
   "metadata": {},
   "outputs": [
    {
     "data": {
      "text/html": [
       "<div>\n",
       "<style scoped>\n",
       "    .dataframe tbody tr th:only-of-type {\n",
       "        vertical-align: middle;\n",
       "    }\n",
       "\n",
       "    .dataframe tbody tr th {\n",
       "        vertical-align: top;\n",
       "    }\n",
       "\n",
       "    .dataframe thead th {\n",
       "        text-align: right;\n",
       "    }\n",
       "</style>\n",
       "<table border=\"1\" class=\"dataframe\">\n",
       "  <thead>\n",
       "    <tr style=\"text-align: right;\">\n",
       "      <th></th>\n",
       "      <th>prb_id</th>\n",
       "      <th>resolver_name</th>\n",
       "      <th>is_global_ip</th>\n",
       "      <th>ctr_local</th>\n",
       "      <th>ctr_centr</th>\n",
       "      <th>ctr_all</th>\n",
       "    </tr>\n",
       "  </thead>\n",
       "  <tbody>\n",
       "  </tbody>\n",
       "</table>\n",
       "</div>"
      ],
      "text/plain": [
       "Empty DataFrame\n",
       "Columns: [prb_id, resolver_name, is_global_ip, ctr_local, ctr_centr, ctr_all]\n",
       "Index: []"
      ]
     },
     "execution_count": 19,
     "metadata": {},
     "output_type": "execute_result"
    }
   ],
   "source": [
    "df_reduced[(df_reduced.resolver_name != 'local') & (df_reduced.ctr_local == 1)]"
   ]
  },
  {
   "cell_type": "code",
   "execution_count": 20,
   "metadata": {},
   "outputs": [],
   "source": [
    "df_rslv_ctr = df_reduced.groupby('prb_id').agg({'ctr_local':'sum', 'ctr_centr':'sum', 'ctr_all':'sum'}).reset_index()"
   ]
  },
  {
   "cell_type": "code",
   "execution_count": 21,
   "metadata": {},
   "outputs": [
    {
     "name": "stdout",
     "output_type": "stream",
     "text": [
      "Overall number of probes\n",
      "10624\n",
      "Mean number of local resolvers\n",
      "0.9821159638554217\n",
      "Median number of local resolvers\n",
      "1.0\n",
      "Mean number of centralised resolvers\n",
      "0.39504894578313254\n",
      "Median number of centralised resolvers\n",
      "0.0\n",
      "Mean number of all resolvers\n",
      "1.3771649096385543\n",
      "Median number of all resolvers\n",
      "1.0\n"
     ]
    }
   ],
   "source": [
    "print('Overall number of probes')\n",
    "print(df_rslv_ctr.prb_id.count())\n",
    "print('Mean number of local resolvers')\n",
    "print(df_rslv_ctr.ctr_local.mean())\n",
    "print('Median number of local resolvers')\n",
    "print(df_rslv_ctr.ctr_local.median())\n",
    "print('Mean number of centralised resolvers')\n",
    "print(df_rslv_ctr.ctr_centr.mean())\n",
    "print('Median number of centralised resolvers')\n",
    "print(df_rslv_ctr.ctr_centr.median())\n",
    "print('Mean number of all resolvers')\n",
    "print(df_rslv_ctr.ctr_all.mean())\n",
    "print('Median number of all resolvers')\n",
    "print(df_rslv_ctr.ctr_all.median())"
   ]
  },
  {
   "cell_type": "code",
   "execution_count": 22,
   "metadata": {},
   "outputs": [
    {
     "name": "stdout",
     "output_type": "stream",
     "text": [
      "Number of probes with only local resolvers\n",
      "7617\n",
      "Mean number of local resolvers\n",
      "1.1463830904555599\n",
      "Median number of local resolvers\n",
      "1.0\n",
      "Mean number of centralised resolvers\n",
      "0.0\n",
      "Median number of centralised resolvers\n",
      "0.0\n",
      "Mean number of all resolvers\n",
      "1.1463830904555599\n",
      "Median number of all resolvers\n",
      "1.0\n"
     ]
    }
   ],
   "source": [
    "print('Number of probes with only local resolvers')\n",
    "print(df_rslv_ctr[df_rslv_ctr.ctr_centr == 0].prb_id.count())\n",
    "print('Mean number of local resolvers')\n",
    "print(df_rslv_ctr[df_rslv_ctr.ctr_centr == 0].ctr_local.mean())\n",
    "print('Median number of local resolvers')\n",
    "print(df_rslv_ctr[df_rslv_ctr.ctr_centr == 0].ctr_local.median())\n",
    "print('Mean number of centralised resolvers')\n",
    "print(df_rslv_ctr[df_rslv_ctr.ctr_centr == 0].ctr_centr.mean())\n",
    "print('Median number of centralised resolvers')\n",
    "print(df_rslv_ctr[df_rslv_ctr.ctr_centr == 0].ctr_centr.median())\n",
    "print('Mean number of all resolvers')\n",
    "print(df_rslv_ctr[df_rslv_ctr.ctr_centr == 0].ctr_all.mean())\n",
    "print('Median number of all resolvers')\n",
    "print(df_rslv_ctr[df_rslv_ctr.ctr_centr == 0].ctr_all.median())"
   ]
  },
  {
   "cell_type": "code",
   "execution_count": 23,
   "metadata": {},
   "outputs": [
    {
     "data": {
      "text/plain": [
       "0.7169615963855421"
      ]
     },
     "execution_count": 23,
     "metadata": {},
     "output_type": "execute_result"
    }
   ],
   "source": [
    "df_rslv_ctr[df_rslv_ctr.ctr_centr == 0].prb_id.count() / df_rslv_ctr.prb_id.count()"
   ]
  },
  {
   "cell_type": "code",
   "execution_count": 24,
   "metadata": {},
   "outputs": [
    {
     "name": "stdout",
     "output_type": "stream",
     "text": [
      "Number of probes with only centralised resolvers\n",
      "1371\n",
      "Mean number of local resolvers\n",
      "0.0\n",
      "Median number of local resolvers\n",
      "0.0\n",
      "Mean number of centralised resolvers\n",
      "1.314369073668855\n",
      "Median number of centralised resolvers\n",
      "1.0\n",
      "Mean number of all resolvers\n",
      "1.314369073668855\n",
      "Median number of all resolvers\n",
      "1.0\n"
     ]
    }
   ],
   "source": [
    "#df_rslv_ctr[df_rslv_ctr.ctr_local == 0].prb_id.count()\n",
    "\n",
    "\n",
    "print('Number of probes with only centralised resolvers')\n",
    "print(df_rslv_ctr[df_rslv_ctr.ctr_local == 0].prb_id.count())\n",
    "print('Mean number of local resolvers')\n",
    "print(df_rslv_ctr[df_rslv_ctr.ctr_local == 0].ctr_local.mean())\n",
    "print('Median number of local resolvers')\n",
    "print(df_rslv_ctr[df_rslv_ctr.ctr_local == 0].ctr_local.median())\n",
    "print('Mean number of centralised resolvers')\n",
    "print(df_rslv_ctr[df_rslv_ctr.ctr_local == 0].ctr_centr.mean())\n",
    "print('Median number of centralised resolvers')\n",
    "print(df_rslv_ctr[df_rslv_ctr.ctr_local == 0].ctr_centr.median())\n",
    "print('Mean number of all resolvers')\n",
    "print(df_rslv_ctr[df_rslv_ctr.ctr_local == 0].ctr_all.mean())\n",
    "print('Median number of all resolvers')\n",
    "print(df_rslv_ctr[df_rslv_ctr.ctr_local == 0].ctr_all.median())"
   ]
  },
  {
   "cell_type": "code",
   "execution_count": 25,
   "metadata": {},
   "outputs": [
    {
     "data": {
      "text/plain": [
       "0.12904743975903615"
      ]
     },
     "execution_count": 25,
     "metadata": {},
     "output_type": "execute_result"
    }
   ],
   "source": [
    "df_rslv_ctr[df_rslv_ctr.ctr_local == 0].prb_id.count() / df_rslv_ctr.prb_id.count()"
   ]
  },
  {
   "cell_type": "code",
   "execution_count": 26,
   "metadata": {},
   "outputs": [
    {
     "name": "stdout",
     "output_type": "stream",
     "text": [
      "Number of probes with centralised and local resolvers\n",
      "1636\n",
      "Mean number of local resolvers\n",
      "1.0403422982885087\n",
      "Median number of local resolvers\n",
      "1.0\n",
      "Mean number of centralised resolvers\n",
      "1.4639364303178484\n",
      "Median number of centralised resolvers\n",
      "1.0\n",
      "Mean number of all resolvers\n",
      "2.504278728606357\n",
      "Median number of all resolvers\n",
      "3.0\n"
     ]
    }
   ],
   "source": [
    "#df_rslv_ctr[(df_rslv_ctr.ctr_local != 0) & (df_rslv_ctr.ctr_centr != 0)].prb_id.count()\n",
    "\n",
    "print('Number of probes with centralised and local resolvers')\n",
    "print(df_rslv_ctr[(df_rslv_ctr.ctr_local != 0) & (df_rslv_ctr.ctr_centr != 0)].prb_id.count())\n",
    "print('Mean number of local resolvers')\n",
    "print(df_rslv_ctr[(df_rslv_ctr.ctr_local != 0) & (df_rslv_ctr.ctr_centr != 0)].ctr_local.mean())\n",
    "print('Median number of local resolvers')\n",
    "print(df_rslv_ctr[(df_rslv_ctr.ctr_local != 0) & (df_rslv_ctr.ctr_centr != 0)].ctr_local.median())\n",
    "print('Mean number of centralised resolvers')\n",
    "print(df_rslv_ctr[(df_rslv_ctr.ctr_local != 0) & (df_rslv_ctr.ctr_centr != 0)].ctr_centr.mean())\n",
    "print('Median number of centralised resolvers')\n",
    "print(df_rslv_ctr[(df_rslv_ctr.ctr_local != 0) & (df_rslv_ctr.ctr_centr != 0)].ctr_centr.median())\n",
    "print('Mean number of all resolvers')\n",
    "print(df_rslv_ctr[(df_rslv_ctr.ctr_local != 0) & (df_rslv_ctr.ctr_centr != 0)].ctr_all.mean())\n",
    "print('Median number of all resolvers')\n",
    "print(df_rslv_ctr[(df_rslv_ctr.ctr_local != 0) & (df_rslv_ctr.ctr_centr != 0)].ctr_all.median())"
   ]
  },
  {
   "cell_type": "code",
   "execution_count": 27,
   "metadata": {},
   "outputs": [
    {
     "data": {
      "text/plain": [
       "0.1539909638554217"
      ]
     },
     "execution_count": 27,
     "metadata": {},
     "output_type": "execute_result"
    }
   ],
   "source": [
    "df_rslv_ctr[(df_rslv_ctr.ctr_local != 0) & (df_rslv_ctr.ctr_centr != 0)].prb_id.count() / df_rslv_ctr.prb_id.count()"
   ]
  },
  {
   "cell_type": "markdown",
   "metadata": {},
   "source": [
    "# Probes with only centralised resolvers"
   ]
  },
  {
   "cell_type": "code",
   "execution_count": 28,
   "metadata": {},
   "outputs": [],
   "source": [
    "df_only_centr = df_reduced[df_reduced.prb_id.isin(df_rslv_ctr[df_rslv_ctr.ctr_local == 0].prb_id.unique())].copy(deep=True)"
   ]
  },
  {
   "cell_type": "code",
   "execution_count": 29,
   "metadata": {},
   "outputs": [
    {
     "data": {
      "text/html": [
       "<div>\n",
       "<style scoped>\n",
       "    .dataframe tbody tr th:only-of-type {\n",
       "        vertical-align: middle;\n",
       "    }\n",
       "\n",
       "    .dataframe tbody tr th {\n",
       "        vertical-align: top;\n",
       "    }\n",
       "\n",
       "    .dataframe thead th {\n",
       "        text-align: right;\n",
       "    }\n",
       "</style>\n",
       "<table border=\"1\" class=\"dataframe\">\n",
       "  <thead>\n",
       "    <tr style=\"text-align: right;\">\n",
       "      <th></th>\n",
       "      <th>prb_id</th>\n",
       "      <th>resolver_name</th>\n",
       "      <th>is_global_ip</th>\n",
       "      <th>ctr_local</th>\n",
       "      <th>ctr_centr</th>\n",
       "      <th>ctr_all</th>\n",
       "    </tr>\n",
       "  </thead>\n",
       "  <tbody>\n",
       "    <tr>\n",
       "      <th>25</th>\n",
       "      <td>1083</td>\n",
       "      <td>Google</td>\n",
       "      <td>1</td>\n",
       "      <td>0</td>\n",
       "      <td>1</td>\n",
       "      <td>1</td>\n",
       "    </tr>\n",
       "    <tr>\n",
       "      <th>47</th>\n",
       "      <td>1127</td>\n",
       "      <td>Google</td>\n",
       "      <td>1</td>\n",
       "      <td>0</td>\n",
       "      <td>1</td>\n",
       "      <td>1</td>\n",
       "    </tr>\n",
       "    <tr>\n",
       "      <th>51</th>\n",
       "      <td>1134</td>\n",
       "      <td>OpenDNS</td>\n",
       "      <td>1</td>\n",
       "      <td>0</td>\n",
       "      <td>1</td>\n",
       "      <td>1</td>\n",
       "    </tr>\n",
       "    <tr>\n",
       "      <th>53</th>\n",
       "      <td>1134</td>\n",
       "      <td>Google</td>\n",
       "      <td>1</td>\n",
       "      <td>0</td>\n",
       "      <td>1</td>\n",
       "      <td>1</td>\n",
       "    </tr>\n",
       "    <tr>\n",
       "      <th>67</th>\n",
       "      <td>1163</td>\n",
       "      <td>Google</td>\n",
       "      <td>1</td>\n",
       "      <td>0</td>\n",
       "      <td>1</td>\n",
       "      <td>1</td>\n",
       "    </tr>\n",
       "    <tr>\n",
       "      <th>...</th>\n",
       "      <td>...</td>\n",
       "      <td>...</td>\n",
       "      <td>...</td>\n",
       "      <td>...</td>\n",
       "      <td>...</td>\n",
       "      <td>...</td>\n",
       "    </tr>\n",
       "    <tr>\n",
       "      <th>35419</th>\n",
       "      <td>52633</td>\n",
       "      <td>Google</td>\n",
       "      <td>1</td>\n",
       "      <td>0</td>\n",
       "      <td>1</td>\n",
       "      <td>1</td>\n",
       "    </tr>\n",
       "    <tr>\n",
       "      <th>35762</th>\n",
       "      <td>53387</td>\n",
       "      <td>OpenDNS</td>\n",
       "      <td>1</td>\n",
       "      <td>0</td>\n",
       "      <td>1</td>\n",
       "      <td>1</td>\n",
       "    </tr>\n",
       "    <tr>\n",
       "      <th>36481</th>\n",
       "      <td>1000081</td>\n",
       "      <td>Cloudflare</td>\n",
       "      <td>1</td>\n",
       "      <td>0</td>\n",
       "      <td>1</td>\n",
       "      <td>1</td>\n",
       "    </tr>\n",
       "    <tr>\n",
       "      <th>36936</th>\n",
       "      <td>1000971</td>\n",
       "      <td>Google</td>\n",
       "      <td>1</td>\n",
       "      <td>0</td>\n",
       "      <td>1</td>\n",
       "      <td>1</td>\n",
       "    </tr>\n",
       "    <tr>\n",
       "      <th>37410</th>\n",
       "      <td>55749</td>\n",
       "      <td>Google</td>\n",
       "      <td>1</td>\n",
       "      <td>0</td>\n",
       "      <td>1</td>\n",
       "      <td>1</td>\n",
       "    </tr>\n",
       "  </tbody>\n",
       "</table>\n",
       "<p>1802 rows × 6 columns</p>\n",
       "</div>"
      ],
      "text/plain": [
       "        prb_id resolver_name  is_global_ip  ctr_local  ctr_centr  ctr_all\n",
       "25        1083        Google             1          0          1        1\n",
       "47        1127        Google             1          0          1        1\n",
       "51        1134       OpenDNS             1          0          1        1\n",
       "53        1134        Google             1          0          1        1\n",
       "67        1163        Google             1          0          1        1\n",
       "...        ...           ...           ...        ...        ...      ...\n",
       "35419    52633        Google             1          0          1        1\n",
       "35762    53387       OpenDNS             1          0          1        1\n",
       "36481  1000081    Cloudflare             1          0          1        1\n",
       "36936  1000971        Google             1          0          1        1\n",
       "37410    55749        Google             1          0          1        1\n",
       "\n",
       "[1802 rows x 6 columns]"
      ]
     },
     "execution_count": 29,
     "metadata": {},
     "output_type": "execute_result"
    }
   ],
   "source": [
    "df_only_centr"
   ]
  },
  {
   "cell_type": "markdown",
   "metadata": {},
   "source": [
    "### overall popularity"
   ]
  },
  {
   "cell_type": "code",
   "execution_count": 30,
   "metadata": {},
   "outputs": [
    {
     "data": {
      "text/plain": [
       "Google           1001\n",
       "Cloudflare        527\n",
       "Quad9             126\n",
       "OpenDNS           122\n",
       "Yandex             12\n",
       "NextDNS             8\n",
       "VeriSign            3\n",
       "Neustar             2\n",
       "CleanBrowsing       1\n",
       "Name: resolver_name, dtype: int64"
      ]
     },
     "execution_count": 30,
     "metadata": {},
     "output_type": "execute_result"
    }
   ],
   "source": [
    "df_only_centr.resolver_name.value_counts()"
   ]
  },
  {
   "cell_type": "code",
   "execution_count": 31,
   "metadata": {},
   "outputs": [
    {
     "data": {
      "text/plain": [
       "Google           0.555494\n",
       "Cloudflare       0.292453\n",
       "Quad9            0.069922\n",
       "OpenDNS          0.067703\n",
       "Yandex           0.006659\n",
       "NextDNS          0.004440\n",
       "VeriSign         0.001665\n",
       "Neustar          0.001110\n",
       "CleanBrowsing    0.000555\n",
       "Name: resolver_name, dtype: float64"
      ]
     },
     "execution_count": 31,
     "metadata": {},
     "output_type": "execute_result"
    }
   ],
   "source": [
    "df_only_centr.resolver_name.value_counts(normalize=True)"
   ]
  },
  {
   "cell_type": "markdown",
   "metadata": {},
   "source": [
    "### number of resolvers"
   ]
  },
  {
   "cell_type": "code",
   "execution_count": 32,
   "metadata": {},
   "outputs": [
    {
     "data": {
      "text/plain": [
       "1    978\n",
       "2    355\n",
       "3     38\n",
       "Name: ctr_centr, dtype: int64"
      ]
     },
     "execution_count": 32,
     "metadata": {},
     "output_type": "execute_result"
    }
   ],
   "source": [
    "df_rslv_ctr[df_rslv_ctr.ctr_local == 0].ctr_centr.value_counts()"
   ]
  },
  {
   "cell_type": "code",
   "execution_count": 33,
   "metadata": {},
   "outputs": [
    {
     "data": {
      "text/plain": [
       "1    0.713348\n",
       "2    0.258935\n",
       "3    0.027717\n",
       "Name: ctr_centr, dtype: float64"
      ]
     },
     "execution_count": 33,
     "metadata": {},
     "output_type": "execute_result"
    }
   ],
   "source": [
    "df_rslv_ctr[df_rslv_ctr.ctr_local == 0].ctr_centr.value_counts(normalize=True)"
   ]
  },
  {
   "cell_type": "code",
   "execution_count": 34,
   "metadata": {},
   "outputs": [],
   "source": [
    "probe_dict_only_centr = {}\n",
    "for ctr_i in df_rslv_ctr[df_rslv_ctr.ctr_local == 0].ctr_centr.unique():\n",
    "    probe_dict_only_centr[ctr_i] = df_rslv_ctr[(df_rslv_ctr.ctr_local == 0) & (df_rslv_ctr.ctr_centr == ctr_i)].prb_id.unique()"
   ]
  },
  {
   "cell_type": "markdown",
   "metadata": {},
   "source": [
    "### popularity of resolvers based on number of resolvers"
   ]
  },
  {
   "cell_type": "code",
   "execution_count": 35,
   "metadata": {},
   "outputs": [
    {
     "name": "stdout",
     "output_type": "stream",
     "text": [
      "Probes with 1 centralised resolver(s):\n",
      "Google        662\n",
      "Cloudflare    197\n",
      "OpenDNS        81\n",
      "Quad9          28\n",
      "NextDNS         7\n",
      "VeriSign        1\n",
      "Neustar         1\n",
      "Yandex          1\n",
      "Name: resolver_name, dtype: int64\n",
      "\n",
      "Google        0.676892\n",
      "Cloudflare    0.201431\n",
      "OpenDNS       0.082822\n",
      "Quad9         0.028630\n",
      "NextDNS       0.007157\n",
      "VeriSign      0.001022\n",
      "Neustar       0.001022\n",
      "Yandex        0.001022\n",
      "Name: resolver_name, dtype: float64\n",
      "\n",
      "Probes with 2 centralised resolver(s):\n",
      "Google           303\n",
      "Cloudflare       294\n",
      "Quad9             71\n",
      "OpenDNS           33\n",
      "Yandex             5\n",
      "VeriSign           1\n",
      "Neustar            1\n",
      "CleanBrowsing      1\n",
      "NextDNS            1\n",
      "Name: resolver_name, dtype: int64\n",
      "\n",
      "Google           0.426761\n",
      "Cloudflare       0.414085\n",
      "Quad9            0.100000\n",
      "OpenDNS          0.046479\n",
      "Yandex           0.007042\n",
      "VeriSign         0.001408\n",
      "Neustar          0.001408\n",
      "CleanBrowsing    0.001408\n",
      "NextDNS          0.001408\n",
      "Name: resolver_name, dtype: float64\n",
      "\n",
      "Probes with 3 centralised resolver(s):\n",
      "Cloudflare    36\n",
      "Google        36\n",
      "Quad9         27\n",
      "OpenDNS        8\n",
      "Yandex         6\n",
      "VeriSign       1\n",
      "Name: resolver_name, dtype: int64\n",
      "\n",
      "Cloudflare    0.315789\n",
      "Google        0.315789\n",
      "Quad9         0.236842\n",
      "OpenDNS       0.070175\n",
      "Yandex        0.052632\n",
      "VeriSign      0.008772\n",
      "Name: resolver_name, dtype: float64\n",
      "\n"
     ]
    }
   ],
   "source": [
    "for num_centr_rslv in probe_dict_only_centr.keys():\n",
    "    print('Probes with '+str(num_centr_rslv)+' centralised resolver(s):')\n",
    "    print(df_reduced[df_reduced.prb_id.isin(probe_dict_only_centr[num_centr_rslv])].resolver_name.value_counts())\n",
    "    print('')\n",
    "    print(df_reduced[df_reduced.prb_id.isin(probe_dict_only_centr[num_centr_rslv])].resolver_name.value_counts(normalize=True))\n",
    "    print('')"
   ]
  },
  {
   "cell_type": "markdown",
   "metadata": {},
   "source": [
    "### most popular combinations of resolvers"
   ]
  },
  {
   "cell_type": "code",
   "execution_count": 36,
   "metadata": {},
   "outputs": [
    {
     "data": {
      "text/plain": [
       "Google                         662\n",
       "Cloudflare, Google             245\n",
       "Cloudflare                     197\n",
       "OpenDNS                         81\n",
       "Cloudflare, Quad9               41\n",
       "Google, Quad9                   28\n",
       "Quad9                           28\n",
       "Cloudflare, Google, Quad9       24\n",
       "Google, OpenDNS                 24\n",
       "NextDNS                          7\n",
       "Cloudflare, OpenDNS              7\n",
       "Cloudflare, Google, OpenDNS      5\n",
       "Cloudflare, Google, Yandex       5\n",
       "Google, Yandex                   4\n",
       "Cloudflare, OpenDNS, Quad9       2\n",
       "OpenDNS, Quad9                   2\n",
       "Yandex                           1\n",
       "Google, OpenDNS, Yandex          1\n",
       "CleanBrowsing, NextDNS           1\n",
       "Neustar                          1\n",
       "Cloudflare, Yandex               1\n",
       "Google, Neustar                  1\n",
       "Google, Quad9, VeriSign          1\n",
       "Google, VeriSign                 1\n",
       "VeriSign                         1\n",
       "Name: resolver_name, dtype: int64"
      ]
     },
     "execution_count": 36,
     "metadata": {},
     "output_type": "execute_result"
    }
   ],
   "source": [
    "df_only_centr.groupby('prb_id').agg({'resolver_name':(lambda x: ', '.join(sorted(set(x))))}).resolver_name.value_counts()"
   ]
  },
  {
   "cell_type": "code",
   "execution_count": 37,
   "metadata": {},
   "outputs": [
    {
     "data": {
      "text/plain": [
       "Google                         0.482859\n",
       "Cloudflare, Google             0.178702\n",
       "Cloudflare                     0.143691\n",
       "OpenDNS                        0.059081\n",
       "Cloudflare, Quad9              0.029905\n",
       "Google, Quad9                  0.020423\n",
       "Quad9                          0.020423\n",
       "Cloudflare, Google, Quad9      0.017505\n",
       "Google, OpenDNS                0.017505\n",
       "NextDNS                        0.005106\n",
       "Cloudflare, OpenDNS            0.005106\n",
       "Cloudflare, Google, OpenDNS    0.003647\n",
       "Cloudflare, Google, Yandex     0.003647\n",
       "Google, Yandex                 0.002918\n",
       "Cloudflare, OpenDNS, Quad9     0.001459\n",
       "OpenDNS, Quad9                 0.001459\n",
       "Yandex                         0.000729\n",
       "Google, OpenDNS, Yandex        0.000729\n",
       "CleanBrowsing, NextDNS         0.000729\n",
       "Neustar                        0.000729\n",
       "Cloudflare, Yandex             0.000729\n",
       "Google, Neustar                0.000729\n",
       "Google, Quad9, VeriSign        0.000729\n",
       "Google, VeriSign               0.000729\n",
       "VeriSign                       0.000729\n",
       "Name: resolver_name, dtype: float64"
      ]
     },
     "execution_count": 37,
     "metadata": {},
     "output_type": "execute_result"
    }
   ],
   "source": [
    "df_only_centr.groupby('prb_id').agg({'resolver_name':(lambda x: ', '.join(sorted(set(x))))}).resolver_name.value_counts(normalize=True)"
   ]
  },
  {
   "cell_type": "markdown",
   "metadata": {},
   "source": [
    "# Probes with local and centralised resolvers"
   ]
  },
  {
   "cell_type": "code",
   "execution_count": 38,
   "metadata": {},
   "outputs": [],
   "source": [
    "df_local_centr = df_reduced[df_reduced.prb_id.isin(df_rslv_ctr[(df_rslv_ctr.ctr_local != 0) & (df_rslv_ctr.ctr_centr != 0)].prb_id.unique())].copy(deep=True)"
   ]
  },
  {
   "cell_type": "markdown",
   "metadata": {},
   "source": [
    "### overall popularity"
   ]
  },
  {
   "cell_type": "code",
   "execution_count": 39,
   "metadata": {},
   "outputs": [
    {
     "data": {
      "text/plain": [
       "local         1702\n",
       "Google        1357\n",
       "VeriSign       656\n",
       "Cloudflare     263\n",
       "OpenDNS         54\n",
       "Quad9           47\n",
       "Yandex          13\n",
       "NextDNS          2\n",
       "Neustar          2\n",
       "OpenNIC          1\n",
       "Name: resolver_name, dtype: int64"
      ]
     },
     "execution_count": 39,
     "metadata": {},
     "output_type": "execute_result"
    }
   ],
   "source": [
    "df_local_centr.resolver_name.value_counts()"
   ]
  },
  {
   "cell_type": "code",
   "execution_count": 40,
   "metadata": {},
   "outputs": [
    {
     "data": {
      "text/plain": [
       "Google        0.566597\n",
       "VeriSign      0.273904\n",
       "Cloudflare    0.109812\n",
       "OpenDNS       0.022547\n",
       "Quad9         0.019624\n",
       "Yandex        0.005428\n",
       "NextDNS       0.000835\n",
       "Neustar       0.000835\n",
       "OpenNIC       0.000418\n",
       "Name: resolver_name, dtype: float64"
      ]
     },
     "execution_count": 40,
     "metadata": {},
     "output_type": "execute_result"
    }
   ],
   "source": [
    "df_local_centr[df_local_centr['resolver_name'] != 'local']['resolver_name'].value_counts(normalize=True)"
   ]
  },
  {
   "cell_type": "code",
   "execution_count": 41,
   "metadata": {},
   "outputs": [
    {
     "data": {
      "text/plain": [
       "local         0.415426\n",
       "Google        0.331218\n",
       "VeriSign      0.160117\n",
       "Cloudflare    0.064193\n",
       "OpenDNS       0.013180\n",
       "Quad9         0.011472\n",
       "Yandex        0.003173\n",
       "NextDNS       0.000488\n",
       "Neustar       0.000488\n",
       "OpenNIC       0.000244\n",
       "Name: resolver_name, dtype: float64"
      ]
     },
     "execution_count": 41,
     "metadata": {},
     "output_type": "execute_result"
    }
   ],
   "source": [
    "df_local_centr.resolver_name.value_counts(normalize=True)"
   ]
  },
  {
   "cell_type": "markdown",
   "metadata": {},
   "source": [
    "### number of resolvers"
   ]
  },
  {
   "cell_type": "code",
   "execution_count": 42,
   "metadata": {},
   "outputs": [
    {
     "data": {
      "text/plain": [
       "3    825\n",
       "2    811\n",
       "Name: ctr_all, dtype: int64"
      ]
     },
     "execution_count": 42,
     "metadata": {},
     "output_type": "execute_result"
    }
   ],
   "source": [
    "df_rslv_ctr[(df_rslv_ctr.ctr_local != 0) & (df_rslv_ctr.ctr_centr != 0)].ctr_all.value_counts()"
   ]
  },
  {
   "cell_type": "code",
   "execution_count": 43,
   "metadata": {},
   "outputs": [
    {
     "data": {
      "text/plain": [
       "3    0.504279\n",
       "2    0.495721\n",
       "Name: ctr_all, dtype: float64"
      ]
     },
     "execution_count": 43,
     "metadata": {},
     "output_type": "execute_result"
    }
   ],
   "source": [
    "df_rslv_ctr[(df_rslv_ctr.ctr_local != 0) & (df_rslv_ctr.ctr_centr != 0)].ctr_all.value_counts(normalize=True)"
   ]
  },
  {
   "cell_type": "code",
   "execution_count": 44,
   "metadata": {},
   "outputs": [],
   "source": [
    "probe_dict_local_centr = {}\n",
    "for ctr_i in df_rslv_ctr[(df_rslv_ctr.ctr_local != 0) & (df_rslv_ctr.ctr_centr != 0)].ctr_all.unique():\n",
    "    probe_dict_local_centr[ctr_i] = df_rslv_ctr[(df_rslv_ctr.ctr_local != 0) & (df_rslv_ctr.ctr_centr != 0) & (df_rslv_ctr.ctr_all == ctr_i)].prb_id.unique()\n",
    "    \n",
    "    \n",
    "    \n",
    "    "
   ]
  },
  {
   "cell_type": "markdown",
   "metadata": {},
   "source": [
    "### popularity of resolvers based on number of resolvers"
   ]
  },
  {
   "cell_type": "code",
   "execution_count": 45,
   "metadata": {},
   "outputs": [
    {
     "name": "stdout",
     "output_type": "stream",
     "text": [
      "Probes with 2 centralised resolver(s):\n",
      "local         811\n",
      "Google        564\n",
      "Cloudflare    162\n",
      "OpenDNS        42\n",
      "Quad9          28\n",
      "Yandex         11\n",
      "NextDNS         2\n",
      "Neustar         2\n",
      "Name: resolver_name, dtype: int64\n",
      "\n",
      "local         0.500000\n",
      "Google        0.347719\n",
      "Cloudflare    0.099877\n",
      "OpenDNS       0.025894\n",
      "Quad9         0.017263\n",
      "Yandex        0.006782\n",
      "NextDNS       0.001233\n",
      "Neustar       0.001233\n",
      "Name: resolver_name, dtype: float64\n",
      "\n",
      "Probes with 3 centralised resolver(s):\n",
      "local         891\n",
      "Google        793\n",
      "VeriSign      656\n",
      "Cloudflare    101\n",
      "Quad9          19\n",
      "OpenDNS        12\n",
      "Yandex          2\n",
      "OpenNIC         1\n",
      "Name: resolver_name, dtype: int64\n",
      "\n",
      "local         0.360000\n",
      "Google        0.320404\n",
      "VeriSign      0.265051\n",
      "Cloudflare    0.040808\n",
      "Quad9         0.007677\n",
      "OpenDNS       0.004848\n",
      "Yandex        0.000808\n",
      "OpenNIC       0.000404\n",
      "Name: resolver_name, dtype: float64\n",
      "\n"
     ]
    }
   ],
   "source": [
    "for num_centr_rslv in probe_dict_local_centr.keys():\n",
    "    print('Probes with '+str(num_centr_rslv)+' centralised resolver(s):')\n",
    "    print(df_reduced[df_reduced.prb_id.isin(probe_dict_local_centr[num_centr_rslv])].resolver_name.value_counts())\n",
    "    print('')\n",
    "    print(df_reduced[df_reduced.prb_id.isin(probe_dict_local_centr[num_centr_rslv])].resolver_name.value_counts(normalize=True))\n",
    "    print('')"
   ]
  },
  {
   "cell_type": "markdown",
   "metadata": {},
   "source": [
    "### most popular combinations of resolvers"
   ]
  },
  {
   "cell_type": "code",
   "execution_count": 46,
   "metadata": {},
   "outputs": [
    {
     "data": {
      "text/plain": [
       "Google, VeriSign, local       656\n",
       "Google, local                 611\n",
       "Cloudflare, local             175\n",
       "Cloudflare, Google, local      75\n",
       "OpenDNS, local                 44\n",
       "Quad9, local                   32\n",
       "Yandex, local                  11\n",
       "Cloudflare, Quad9, local       10\n",
       "Google, OpenDNS, local          9\n",
       "Google, Quad9, local            5\n",
       "Neustar, local                  2\n",
       "NextDNS, local                  2\n",
       "Cloudflare, OpenDNS, local      1\n",
       "Cloudflare, Yandex, local       1\n",
       "Google, Yandex, local           1\n",
       "Cloudflare, OpenNIC, local      1\n",
       "Name: resolver_name, dtype: int64"
      ]
     },
     "execution_count": 46,
     "metadata": {},
     "output_type": "execute_result"
    }
   ],
   "source": [
    "df_local_centr.groupby('prb_id').agg({'resolver_name':(lambda x: ', '.join(sorted(set(x))))}).resolver_name.value_counts()\n",
    "\n"
   ]
  },
  {
   "cell_type": "code",
   "execution_count": 47,
   "metadata": {},
   "outputs": [
    {
     "data": {
      "text/plain": [
       "Google, VeriSign, local       0.400978\n",
       "Google, local                 0.373472\n",
       "Cloudflare, local             0.106968\n",
       "Cloudflare, Google, local     0.045844\n",
       "OpenDNS, local                0.026895\n",
       "Quad9, local                  0.019560\n",
       "Yandex, local                 0.006724\n",
       "Cloudflare, Quad9, local      0.006112\n",
       "Google, OpenDNS, local        0.005501\n",
       "Google, Quad9, local          0.003056\n",
       "Neustar, local                0.001222\n",
       "NextDNS, local                0.001222\n",
       "Cloudflare, OpenDNS, local    0.000611\n",
       "Cloudflare, Yandex, local     0.000611\n",
       "Google, Yandex, local         0.000611\n",
       "Cloudflare, OpenNIC, local    0.000611\n",
       "Name: resolver_name, dtype: float64"
      ]
     },
     "execution_count": 47,
     "metadata": {},
     "output_type": "execute_result"
    }
   ],
   "source": [
    "df_local_centr.groupby('prb_id').agg({'resolver_name':(lambda x: ', '.join(sorted(set(x))))}).resolver_name.value_counts(normalize=True)\n",
    "\n",
    "\n"
   ]
  },
  {
   "cell_type": "code",
   "execution_count": null,
   "metadata": {},
   "outputs": [],
   "source": []
  }
 ],
 "metadata": {
  "kernelspec": {
   "display_name": "Python 3",
   "language": "python",
   "name": "python3"
  },
  "language_info": {
   "codemirror_mode": {
    "name": "ipython",
    "version": 3
   },
   "file_extension": ".py",
   "mimetype": "text/x-python",
   "name": "python",
   "nbconvert_exporter": "python",
   "pygments_lexer": "ipython3",
   "version": "3.6.9"
  }
 },
 "nbformat": 4,
 "nbformat_minor": 2
}
